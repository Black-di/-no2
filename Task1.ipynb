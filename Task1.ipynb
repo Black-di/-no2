{
 "cells": [
  {
   "cell_type": "markdown",
   "metadata": {},
   "source": [
    "# Get and Post\n",
    "## 1.使用urlib实现简单Get，并查看返回码和返回值"
   ]
  },
  {
   "cell_type": "code",
   "execution_count": 4,
   "metadata": {},
   "outputs": [
    {
     "name": "stdout",
     "output_type": "stream",
     "text": [
      "200\n",
      "[('Accept-Ranges', 'bytes'), ('Cache-Control', 'no-cache'), ('Content-Length', '227'), ('Content-Type', 'text/html'), ('Date', 'Tue, 06 Aug 2019 05:54:56 GMT'), ('Etag', '\"5d425abe-e3\"'), ('Last-Modified', 'Thu, 01 Aug 2019 03:21:34 GMT'), ('P3p', 'CP=\" OTI DSP COR IVA OUR IND COM \"'), ('Pragma', 'no-cache'), ('Server', 'BWS/1.1'), ('Set-Cookie', 'BD_NOT_HTTPS=1; path=/; Max-Age=300'), ('Set-Cookie', 'BIDUPSID=5CFF56ED723AF5A22E57C59B319F73EB; expires=Thu, 31-Dec-37 23:55:55 GMT; max-age=2147483647; path=/; domain=.baidu.com'), ('Set-Cookie', 'PSTM=1565070896; expires=Thu, 31-Dec-37 23:55:55 GMT; max-age=2147483647; path=/; domain=.baidu.com'), ('Strict-Transport-Security', 'max-age=0'), ('X-Ua-Compatible', 'IE=Edge,chrome=1'), ('Connection', 'close')]\n",
      "BWS/1.1\n"
     ]
    }
   ],
   "source": [
    "import urllib.request\n",
    "response = urllib.request.urlopen(\"https://www.baidu.com/\")\n",
    "print(response.status)                  #获取返回码\n",
    "print(response.getheaders())            #获取全部header\n",
    "print(response.getheader('server'))     #获取指定header"
   ]
  },
  {
   "cell_type": "markdown",
   "metadata": {},
   "source": [
    "## 2.使用urlib实现简单POST，并添加Header\n",
    "###   urllib.request\n",
    "###   class  urllib. request. Request ( url,  data=None,  headers={},  origin_req_host=None,  unverifiable=False,  method=None) \n",
    "###    第一个参数 url 用于请求 URL ， 这是必传参数，其他都是可选参数。\n",
    "###    第二个参数 data 如果要传，必须传 bytes （字节流）类型的 。 如果它是字典，可以先用urllib.parse 模块里的urlencode()编码 。\n",
    "###    第三个参数 headers 是一个字典，它就是请求头，我们可以在构造请求时通过 headers 参数直接构造，也可以通过调用请求实例的 add_ header （）方法添加 。添加请求头最常用的用法就是通过修改 User-Agent 来伪装浏览器，默认的 User-Agent是Python-urllib，我们可以通过修改它来伪装浏览器。比如要伪装火狐浏览器，你可以把它设置为：Mozilla/s.o(X11;U;Linux i686)Gecko/20071127 Firefox/2.0.0.11 \n",
    "###    第四个参数 origin_req_host 指的是请求方的 host 名称或者 IP 地址。\n",
    "###    第五个参数 unverifiable 表示这个请求是否是无法验证的，默认是 False ，意思就是说用户没有足够权限来选择接收这个请求的结果。 例如，我们请求一个 HTML 文档中的图片，但是我们没有向动抓取图像的权限，这时 unverifiable 的值就是 True 。\n",
    "###    第六个参数 method 是一个字符串 ，用来指示请求使用的方法，比如 GET 、 POST 和 PUT 等。"
   ]
  },
  {
   "cell_type": "code",
   "execution_count": 7,
   "metadata": {},
   "outputs": [
    {
     "name": "stdout",
     "output_type": "stream",
     "text": [
      "{\n",
      "  \"args\": {}, \n",
      "  \"data\": \"\", \n",
      "  \"files\": {}, \n",
      "  \"form\": {\n",
      "    \"Name\": \"Black\", \n",
      "    \"Number\": \"66666666\"\n",
      "  }, \n",
      "  \"headers\": {\n",
      "    \"Accept-Encoding\": \"identity\", \n",
      "    \"Content-Length\": \"26\", \n",
      "    \"Content-Type\": \"application/x-www-form-urlencoded\", \n",
      "    \"Host\": \"httpbin.org\", \n",
      "    \"User-Agent\": \"Mozilla/4.0 (compatible ; MSIE 5.5 ; Windows NT)\"\n",
      "  }, \n",
      "  \"json\": null, \n",
      "  \"origin\": \"103.100.112.67, 103.100.112.67\", \n",
      "  \"url\": \"https://httpbin.org/post\"\n",
      "}\n",
      "\n"
     ]
    }
   ],
   "source": [
    "from urllib import request,parse \n",
    "url = 'http://httpbin.org/post'\n",
    "headers  = {\n",
    "    'User-Agent' : 'Mozilla/4.0 (compatible ; MSIE 5.5 ; Windows NT)', \n",
    "    'Host' : 'httpbin.org'\n",
    "}\n",
    "dict = {\n",
    "    'Name' : 'Black',\n",
    "    'Number' : '66666666'        \n",
    "}\n",
    "data = bytes(parse.urlencode(dict),  encoding='utf8')\n",
    "req = request.Request(url=url, data=data, headers=headers, method='POST') \n",
    "response = request.urlopen(req) \n",
    "print(response.read().decode('utf-8'))"
   ]
  },
  {
   "cell_type": "markdown",
   "metadata": {},
   "source": [
    "### 3. Requests  实现GET"
   ]
  },
  {
   "cell_type": "code",
   "execution_count": 10,
   "metadata": {},
   "outputs": [
    {
     "name": "stdout",
     "output_type": "stream",
     "text": [
      "200\n"
     ]
    }
   ],
   "source": [
    "import requests\n",
    "user_agent = 'Mozilla/5.0 (Windows NT 10.0; Win64; x64) AppleWebKit/537.36 (KHTML, like Gecko) Chrome/75.0.3770.100 Safari/537.36'\n",
    "headers = {'User-Agent': user_agent}\n",
    "r = requests.get(\"https://www.zhihu.com/explore\",headers=headers)\n",
    "print(r.status_code)\n",
    "#print(r.text)"
   ]
  },
  {
   "cell_type": "markdown",
   "metadata": {},
   "source": [
    "# 获取豆瓣电视剧排行榜"
   ]
  },
  {
   "cell_type": "code",
   "execution_count": 11,
   "metadata": {},
   "outputs": [
    {
     "name": "stdout",
     "output_type": "stream",
     "text": [
      "   排名        剧名                                 导演                主演  \\\n",
      "0   1  大明王朝1566                                 张黎   陈宝国 / 黄志忠 / 倪大红   \n",
      "1   2       红楼梦                                王扶林   欧阳奋强 / 陈晓旭 / 邓婕   \n",
      "2   3      走向共和                                 张黎     王冰 / 吕中 / 马少骅   \n",
      "3   4    毛骗 终结篇                    李洪绸 / 邢冬冬 / 汪小壹      杨羽 / 邵庄 / 安宁   \n",
      "4   5       西游记                                 杨洁  六小龄童 / 迟重瑞 / 马德华   \n",
      "5   6      武林外传                                 尚敬      闫妮 / 姚晨 / 沙溢   \n",
      "6   7       大宅门                                郭宝昌  斯琴高娃 / 刘佩琦 / 陈宝国   \n",
      "7   8      三国演义  王扶林 / 张绍林 / 蔡晓晴 / 孙光明 / 张中一 / 沈好放   唐国强 / 孙彦军 / 鲍国安   \n",
      "8   9    毛骗 第二季                     李洪绸 / 邢冬冬 / 于哲     杨羽 / 安宁 / 邢冬冬   \n",
      "9  10       琅琊榜                            孔笙 / 李雪      胡歌 / 刘涛 / 王凯   \n",
      "\n",
      "                       类型 制片国家/地区    年份  \\\n",
      "0                 剧情 / 历史    中国大陆  2007   \n",
      "1            剧情 / 爱情 / 古装    中国大陆  1987   \n",
      "2                 剧情 / 历史    中国大陆  2003   \n",
      "3                 犯罪 / 悬疑    中国大陆  2015   \n",
      "4  剧情 / 动作 / 奇幻 / 冒险 / 古装    中国大陆  1986   \n",
      "5            喜剧 / 武侠 / 古装    中国大陆  2006   \n",
      "6  剧情 / 爱情 / 家庭 / 传记 / 历史    中国大陆  2001   \n",
      "7            剧情 / 历史 / 战争    中国大陆  1994   \n",
      "8                 犯罪 / 悬疑    中国大陆  2011   \n",
      "9                 剧情 / 古装    中国大陆  2015   \n",
      "\n",
      "                                           评价链接  \n",
      "0   \"https://movie.douban.com/subject/2210001/\"  \n",
      "1   \"https://movie.douban.com/subject/1864810/\"  \n",
      "2   \"https://movie.douban.com/subject/1441794/\"  \n",
      "3  \"https://movie.douban.com/subject/26603847/\"  \n",
      "4   \"https://movie.douban.com/subject/2156663/\"  \n",
      "5   \"https://movie.douban.com/subject/3882715/\"  \n",
      "6   \"https://movie.douban.com/subject/2181930/\"  \n",
      "7   \"https://movie.douban.com/subject/1830528/\"  \n",
      "8   \"https://movie.douban.com/subject/6894818/\"  \n",
      "9  \"https://movie.douban.com/subject/25754848/\"  \n"
     ]
    }
   ],
   "source": [
    "import requests\n",
    "import re\n",
    "import csv\n",
    "import pandas as pd\n",
    "\n",
    "def GetWebData(url):\n",
    "    user_agent = 'Mozilla/4.0 (compatible; MSIE 5.5; Windows NT)'\n",
    "    headers = {'User-Agent': user_agent}\n",
    "    try:\n",
    "        r = requests.get(url, headers = headers, timeout = 20)\n",
    "        r.raise_for_status()\n",
    "        r.encoding = r.apparent_encoding\n",
    "        return r.text\n",
    "    except:\n",
    "        print('无法访问网页' + url)\n",
    "    return r.text\n",
    "def GetMovieInfo(text):\n",
    "    movie_order = re.findall('<span class=\"pos\">(.*?)</span>',text)\n",
    "    movie_url = re.findall('<div class=\"title\">\\n      <a href=(.*?) target=\"_blank\">',text, flags=re.DOTALL)\n",
    "    movie_name = re.findall('target=\"_blank\">\\n        ((?!<).*?)\\n      </a>',text, flags=re.DOTALL)\n",
    "    movie_director = re.findall('导演: (.*?)\\n            <br />',text, flags=re.DOTALL)\n",
    "    movie_star = re.findall('主演: (.*?)\\n            <br />',text, flags=re.DOTALL)\n",
    "    movie_style = re.findall('类型: (.*?)\\n            <br />',text, flags=re.DOTALL)\n",
    "    movie_country = re.findall('制片国家/地区: (.*?)\\n            <br />',text, flags=re.DOTALL)\n",
    "    movie_time = re.findall('年份: (.*?)\\n    </div>',text, flags=re.DOTALL)\n",
    "    z = zip(movie_order, movie_name, movie_director, movie_star, movie_style, movie_country, movie_time, movie_url)\n",
    "    for i in list(z):\n",
    "        movie_info.append(i)\n",
    "#    return movie_info\n",
    "    \n",
    "if __name__ == '__main__':\n",
    "    url = 'https://www.douban.com/doulist/1253915/?start='\n",
    "    movie_info = []\n",
    "    for i in range(9):\n",
    "        GetMovieInfo(GetWebData(url + str(i * 25)))\n",
    "  \n",
    "    with open('.\\movie.csv','w+',encoding='utf-8-sig',newline='') as f:\n",
    "        writer = csv.writer(f)\n",
    "        writer.writerow(['排名','剧名','导演','主演','类型','制片国家/地区','年份','评价链接'])\n",
    "        for i in movie_info:\n",
    "            writer.writerow(list(i))\n",
    "    print(pd.read_csv('.\\movie.csv').head(10))"
   ]
  }
 ],
 "metadata": {
  "kernelspec": {
   "display_name": "Python 3",
   "language": "python",
   "name": "python3"
  },
  "language_info": {
   "codemirror_mode": {
    "name": "ipython",
    "version": 3
   },
   "file_extension": ".py",
   "mimetype": "text/x-python",
   "name": "python",
   "nbconvert_exporter": "python",
   "pygments_lexer": "ipython3",
   "version": "3.7.3"
  }
 },
 "nbformat": 4,
 "nbformat_minor": 2
}
