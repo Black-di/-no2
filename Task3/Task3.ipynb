{
 "cells": [
  {
   "cell_type": "markdown",
   "metadata": {},
   "source": [
    "# Selenium使用"
   ]
  },
  {
   "cell_type": "markdown",
   "metadata": {},
   "source": [
    "## 简介\n",
    "Selenium是一个自动化测试工具，利用它可以驱动浏览器执行特定的动作，如点击、下拉等操作，同时还可以获取浏览器当前呈现的页面的源代码 ，做到可见即可爬。 对于一些 Java Script 动态渲染的页面来说，此种抓取方式非常有效。"
   ]
  },
  {
   "cell_type": "markdown",
   "metadata": {},
   "source": [
    "## 1.准备工作"
   ]
  },
  {
   "cell_type": "markdown",
   "metadata": {},
   "source": [
    "①安装包Selenium"
   ]
  },
  {
   "cell_type": "markdown",
   "metadata": {},
   "source": [
    "②安装对应浏览器的开发工具(以chrome浏览器为例)：   \n",
    "\n",
    "    首先下载Chrome的WebDriver将WebDriver复制到Chrome的安装目录，安装目录可以通过在Chrome地址栏中输入chrome://version/ 来查看   \n",
    "    其次将chromedriver.exe文件复制到C:\\Program Files (x86)\\Google\\Chrome\\Application下将WebDriver的路径复制到系统环境变量PATH中，即将C:\\Program Files (x86)\\Google\\Chrome\\Application\\chromedriver.exe添加到PATH中"
   ]
  },
  {
   "cell_type": "markdown",
   "metadata": {},
   "source": [
    "③或者使用如下指令配置browser = webdriver.Chrome('C:\\Program Files (x86)\\Google\\Chrome\\Application\\chromedriver.exe')"
   ]
  },
  {
   "cell_type": "markdown",
   "metadata": {},
   "source": [
    "## 2.声明浏览器对象"
   ]
  },
  {
   "cell_type": "code",
   "execution_count": 5,
   "metadata": {},
   "outputs": [],
   "source": [
    "from selenium import webdriver \n",
    "browser = webdriver.Chrome('C:\\Program Files (x86)\\Google\\Chrome\\Application\\chromedriver.exe')"
   ]
  },
  {
   "cell_type": "markdown",
   "metadata": {},
   "source": [
    "## 3.访问页面\n",
    "可以用get()方法来请求网页，参数传入链接 URL 即可"
   ]
  },
  {
   "cell_type": "code",
   "execution_count": 6,
   "metadata": {},
   "outputs": [],
   "source": [
    "browser.get(\"https://mail.163.com/\")"
   ]
  },
  {
   "cell_type": "markdown",
   "metadata": {},
   "source": [
    "## 4.查找节点\n",
    "可以根据\"Name\" \"ID\" css xpath等查找节点如下(将element替换成elements就是查找所有节点)"
   ]
  },
  {
   "cell_type": "code",
   "execution_count": 11,
   "metadata": {},
   "outputs": [
    {
     "name": "stdout",
     "output_type": "stream",
     "text": [
      "<selenium.webdriver.remote.webelement.WebElement (session=\"c618cb873bd1e33df37d38dbad883fea\", element=\"54d92e98-23b6-47bb-ba9b-926e013d8b45\")> <selenium.webdriver.remote.webelement.WebElement (session=\"c618cb873bd1e33df37d38dbad883fea\", element=\"54d92e98-23b6-47bb-ba9b-926e013d8b45\")> <selenium.webdriver.remote.webelement.WebElement (session=\"c618cb873bd1e33df37d38dbad883fea\", element=\"54d92e98-23b6-47bb-ba9b-926e013d8b45\")>\n"
     ]
    }
   ],
   "source": [
    "input_first = browser.find_element_by_id('theme') \n",
    "input_second = browser.find_element_by_css_selector('#theme') \n",
    "input_third  = browser.find_element_by_xpath('//*[@id=\"theme\"]')\n",
    "print(input_first,input_second,input_third) "
   ]
  },
  {
   "cell_type": "markdown",
   "metadata": {},
   "source": [
    "## 5.节点交互\n",
    "Selenium 可以驱动浏览器来执行一些操作，也就是说可以让浏览器模拟执行一些动作。 比较常见的用法有：输入文字时用 send_keys()方法，清空文字时用 clear()方法，点击按钮时用 click()方法。"
   ]
  },
  {
   "cell_type": "code",
   "execution_count": 13,
   "metadata": {},
   "outputs": [],
   "source": [
    "button = browser.find_element_by_xpath('//div[@class=\"new-loginFunc\"]')\n",
    "button.click()"
   ]
  },
  {
   "cell_type": "markdown",
   "metadata": {},
   "source": [
    "## 6.切换Frame\n",
    "网页中有一种节点叫作iframe，也就是子Frame，相当于页面的子页面，它的结构和外部网页的结构完全一致。Selenium 打开页面后，它默认是在父级 Frame 里面操作，而此时如果页面中还有子Frame，它是不能获取到子Frame里面的节点的。这时就需要使用 switch_to.frame()方法来切换Frame"
   ]
  },
  {
   "cell_type": "markdown",
   "metadata": {},
   "source": [
    "### 6.1查找Frame"
   ]
  },
  {
   "cell_type": "code",
   "execution_count": 14,
   "metadata": {},
   "outputs": [],
   "source": [
    "# driver.switch_to.frame(0)  # 1.用frame的index来定位，第一个是0\n",
    "# driver.switch_to.frame(\"frame1\")  # 2.用id来定位\n",
    "# driver.switch_to.frame(\"myframe\")  # 3.用name来定位\n",
    "# driver.switch_to.frame(driver.find_element_by_tag_name(\"iframe\"))  # 4.用WebElement对象来定位"
   ]
  },
  {
   "cell_type": "markdown",
   "metadata": {},
   "source": [
    "## 7.延时等待\n",
    "在Selenium中，get()方法会在网页框架加载结束后结束执行，此时如果获取page_source，可能并不是浏览器完全加载完成的页面，如果某些页面有额外的 Ajax请求，我们在网页惊代码中也不一定能成功获取到。所以，这里需要延时等待一定时间，确保节点已经加载。"
   ]
  },
  {
   "cell_type": "markdown",
   "metadata": {},
   "source": [
    "### 7.1隐式等待\n",
    "使用隐式等待执行测试的时候，如果Selenium没有在DOM中找到节点，将继续等待，超出设定时间后，则抛出找不到节点的异常。 换句话说，当查找节点而节点并没有立即出现的时候，隐式等待将等待一段时间再查找DOM，默认的时间是 0"
   ]
  },
  {
   "cell_type": "code",
   "execution_count": 16,
   "metadata": {},
   "outputs": [
    {
     "name": "stdout",
     "output_type": "stream",
     "text": [
      "<bound method Kernel.raw_input of <ipykernel.ipkernel.IPythonKernel object at 0x0000000004BCDD68>>\n"
     ]
    }
   ],
   "source": [
    "from selenium import webdriver \n",
    "browser = webdriver.Chrome('C:\\Program Files (x86)\\Google\\Chrome\\Application\\chromedriver.exe') \n",
    "browser.implicitly_wait(10) ##实现隐式等待\n",
    "browser.get(\"https://mail.163.com/\")\n",
    "button = browser.find_element_by_xpath('//div[@class=\"new-loginFunc\"]')\n",
    "button.click()"
   ]
  },
  {
   "cell_type": "markdown",
   "metadata": {},
   "source": [
    "### 7.2显式等待\n",
    "指定要查找的节点，然后指定一个最长等待时间。如果在规定时间内加载出来了这个节点，就返回查找的节点；如果到了规定时间依然没有加载出该节点，则抛出超时异常"
   ]
  },
  {
   "cell_type": "code",
   "execution_count": 21,
   "metadata": {},
   "outputs": [
    {
     "name": "stdout",
     "output_type": "stream",
     "text": [
      "<selenium.webdriver.remote.webelement.WebElement (session=\"292f33be1d93e7c56c40aa345c3f0649\", element=\"b143c175-b48c-4ef5-a367-755b5cc5221f\")>\n"
     ]
    }
   ],
   "source": [
    "from selenium import  webdriver \n",
    "from selenium.webdriver.common.by import  By \n",
    "from selenium.webdriver.support.ui import WebDriverWait \n",
    "from selenium.webdriver.support import expected_conditions as EC \n",
    "browser = webdriver.Chrome('C:\\Program Files (x86)\\Google\\Chrome\\Application\\chromedriver.exe') \n",
    "browser.get(\"https://mail.163.com/\")\n",
    "wait = WebDriverWait(browser, 10)\n",
    "input1 = wait. until(EC.presence_of_element_located((By.ID,'theme')))\n",
    "print(input1)"
   ]
  },
  {
   "cell_type": "markdown",
   "metadata": {},
   "source": [
    "# 模拟登陆网易邮箱"
   ]
  },
  {
   "cell_type": "code",
   "execution_count": 24,
   "metadata": {},
   "outputs": [
    {
     "name": "stderr",
     "output_type": "stream",
     "text": [
      "D:\\Anaconda\\envs\\ML\\lib\\site-packages\\ipykernel_launcher.py:11: DeprecationWarning: use driver.switch_to.frame instead\n",
      "  # This is added back by InteractiveShellApp.init_path()\n"
     ]
    }
   ],
   "source": [
    "from selenium import webdriver\n",
    "import time\n",
    "\n",
    "browser = webdriver.Chrome('C:\\Program Files (x86)\\Google\\Chrome\\Application\\chromedriver.exe')\n",
    "browser.maximize_window()\n",
    "browser.implicitly_wait(10)\n",
    "browser.get(\"https://mail.163.com/\")\n",
    "\n",
    "button = browser.find_element_by_xpath('//div[@class=\"new-loginFunc\"]')\n",
    "button.click()\n",
    "browser.switch_to_frame(0)\n",
    "inputbox = browser.find_element_by_xpath(\"//*[@name='email']\")\n",
    "inputbox.send_keys('*********')\n",
    "inputbox = browser.find_element_by_xpath(\"//*[@name='password']\")\n",
    "inputbox.send_keys('***')\n",
    "login_em = browser.find_element_by_id('dologin')\n",
    "login_em.click()\n",
    "browser.switch_to.default_content()"
   ]
  }
 ],
 "metadata": {
  "kernelspec": {
   "display_name": "Python 3",
   "language": "python",
   "name": "python3"
  },
  "language_info": {
   "codemirror_mode": {
    "name": "ipython",
    "version": 3
   },
   "file_extension": ".py",
   "mimetype": "text/x-python",
   "name": "python",
   "nbconvert_exporter": "python",
   "pygments_lexer": "ipython3",
   "version": "3.7.2"
  }
 },
 "nbformat": 4,
 "nbformat_minor": 2
}
