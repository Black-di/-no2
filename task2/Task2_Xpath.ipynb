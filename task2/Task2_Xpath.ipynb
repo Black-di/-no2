{
 "cells": [
  {
   "cell_type": "markdown",
   "metadata": {},
   "source": [
    "# XPath"
   ]
  },
  {
   "cell_type": "markdown",
   "metadata": {},
   "source": [
    "## 1.获取节点"
   ]
  },
  {
   "cell_type": "markdown",
   "metadata": {},
   "source": [
    "### 1.1 获取所有节点\n",
    "\"//*\"参数代表所有节点"
   ]
  },
  {
   "cell_type": "code",
   "execution_count": 31,
   "metadata": {
    "scrolled": true
   },
   "outputs": [],
   "source": [
    "import requests\n",
    "from lxml import etree\n",
    "\n",
    "def GetWebData(url):\n",
    "    user_agent = 'Mozilla/4.0 (compatible; MSIE 5.5; Windows NT)'\n",
    "    headers = {'User-Agent': user_agent}\n",
    "    try:\n",
    "        r = requests.get(url, headers = headers, timeout = 20)\n",
    "        r.raise_for_status()\n",
    "        r.encoding = r.apparent_encoding\n",
    "        return r.text\n",
    "    except:\n",
    "        print('无法访问网页' + url)\n",
    "    return r.text\n",
    "\n",
    "if __name__ == '__main__':\n",
    "    url = 'http://www.dxy.cn/bbs/thread/626626#626626'\n",
    "\n",
    "    with open('test.html', 'w',encoding='utf-8') as f:\n",
    "        for i in GetWebData(url):\n",
    "            f.writelines(str(i))    \n",
    "    html = etree.parse('./test.html',etree.HTMLParser())  ##从文件输入网页数据\n",
    "    result = html.xpath('//*')                            ##获取所有节点\n",
    "    #print(result)"
   ]
  },
  {
   "cell_type": "markdown",
   "metadata": {},
   "source": [
    "### 1.2获取字节点\n",
    "／a 即选择了所有 li 节点的所有直接 a 子节点，此处的／用于选取直接子节点 ，如果要获取所有子孙节点，就可以使用／／。"
   ]
  },
  {
   "cell_type": "code",
   "execution_count": 32,
   "metadata": {},
   "outputs": [],
   "source": [
    "    result = html.xpath('//div/a')                            ##获取节点div的直接子节点中的a节点\n",
    "    #print(result)"
   ]
  },
  {
   "cell_type": "code",
   "execution_count": 33,
   "metadata": {},
   "outputs": [],
   "source": [
    "    result = html.xpath('//div//a')                            ##获取节点div的所有子节点中的a节点\n",
    "    #print(result)"
   ]
  },
  {
   "cell_type": "markdown",
   "metadata": {},
   "source": [
    "### 1.3获取父节点\n",
    "通过 parent::来获取父节点"
   ]
  },
  {
   "cell_type": "code",
   "execution_count": 21,
   "metadata": {},
   "outputs": [
    {
     "name": "stdout",
     "output_type": "stream",
     "text": [
      "[<Element li at 0x20676fd4ec8>, <Element li at 0x20676fd4c08>, <Element li at 0x20678017e88>]\n"
     ]
    }
   ],
   "source": [
    "    result = html.xpath('//div[@class=\"dd\"]/parent::*')                ##获取属性为class=\"dd\"的div节点的所有父节点\n",
    "    #print(result)"
   ]
  },
  {
   "cell_type": "markdown",
   "metadata": {},
   "source": [
    "### 1.4 属性匹配\n",
    "用＠符号进行属性过滤"
   ]
  },
  {
   "cell_type": "code",
   "execution_count": 34,
   "metadata": {
    "scrolled": true
   },
   "outputs": [],
   "source": [
    "    result = html.xpath('//div[@class=\"dd\"]')                ##获取属性为class=\"dd\"的div节点\n",
    "    #print(result)"
   ]
  },
  {
   "cell_type": "markdown",
   "metadata": {},
   "source": [
    "### 1.5 文本获取\n",
    "text()方法获取节点中的文本"
   ]
  },
  {
   "cell_type": "code",
   "execution_count": 27,
   "metadata": {},
   "outputs": [
    {
     "name": "stdout",
     "output_type": "stream",
     "text": [
      "['论坛首页', '论坛首页']\n"
     ]
    }
   ],
   "source": [
    "    result = html.xpath('//a[@href=\"http://www.dxy.cn/bbs/index.html\"]/text()')                ##获取属性为ref=\"http://www.dxy.cn/bbs/index.html的a节点的文本\n",
    "    #print(result)"
   ]
  },
  {
   "cell_type": "markdown",
   "metadata": {},
   "source": [
    "### 1.6 属性获取\n",
    "用@可以获取属性"
   ]
  },
  {
   "cell_type": "code",
   "execution_count": 30,
   "metadata": {},
   "outputs": [],
   "source": [
    "    result = html.xpath('//div/@class')                ##获取所有节点div的class属性值\n",
    "    #print(result)"
   ]
  },
  {
   "cell_type": "markdown",
   "metadata": {},
   "source": [
    "# 获取用户ID和评论"
   ]
  },
  {
   "cell_type": "code",
   "execution_count": 53,
   "metadata": {},
   "outputs": [
    {
     "name": "stdout",
     "output_type": "stream",
     "text": [
      "UserID: 楼医生 \n",
      "\n",
      "Comment: 我遇到一个“怪”病人，向大家请教。她，42岁。反复惊吓后晕厥30余年。每次受响声惊吓后发生跌倒，短暂意识丧失。无逆行性遗忘，无抽搐，无口吐白沫，无大小便失禁。多次跌倒致外伤。婴儿时有惊厥史。入院查体无殊。ECG、24小时动态心电图无殊；头颅MRI示小软化灶；脑电图无殊。入院后有数次类似发作。请问该患者该做何诊断，还需做什么检查，治疗方案怎样？ \n",
      "\n",
      "===============================================================================\n",
      "UserID: lion000 \n",
      "\n",
      "Comment: 从发作的症状上比较符合血管迷走神经性晕厥，直立倾斜试验能协助诊断。在行直立倾斜实验前应该做常规的体格检查、ECG、UCG、holter和X-ray胸片除外器质性心脏病。贴一篇“口服氨酰心安和依那普利治疗血管迷走性晕厥的疗效观察”作者：林文华 任自文 丁燕生http://www.ccheart.com.cn/ccheart_site/Templates/jieru/200011/1-1.htm \n",
      "\n",
      "===============================================================================\n",
      "UserID: xghrh \n",
      "\n",
      "Comment: 同意lion000版主的观点：如果此患者随着年龄的增长，其发作频率逐渐减少且更加支持，不知此患者有无这一特点。入院后的HOLTER及血压监测对此患者只能是一种安慰性的检查，因在这些检查过程中患者发病的机会不是太大，当然不排除正好发作的情况。对此患者应常规作直立倾斜试验，如果没有诱发出，再考虑有无可能是其他原因所致的意识障碍，如室性心动过速等，但这需要电生理尤其是心腔内电生理的检查，毕竟是有一种创伤性方法。因在外地，下面一篇文章可能对您有助，请您自己查找一下。心理应激事件诱发血管迷走性晕厥1例 ，杨峻青、吴沃栋、张瑞云，中国神经精神疾病杂志， 2002 Vol.28 No.2 \n",
      "\n",
      "===============================================================================\n",
      "UserID: keys \n",
      "\n",
      "Comment: 该例不排除精神因素导致的，因为每次均在受惊吓后出现。当然，在作出此诊断前，应完善相关检查，如头颅MIR(MRA),直立倾斜试验等。 \n",
      "\n",
      "===============================================================================\n"
     ]
    }
   ],
   "source": [
    "    UserID = html.xpath('//div[@class=\"auth\"]/a/text()')\n",
    "    Comment = html.xpath('//td[@class=\"postbody\"]')\n",
    "    for i in range(len(UserID)):\n",
    "        print(\"UserID:\",UserID[i],'\\n')\n",
    "        print(\"Comment:\",Comment[i].xpath('string(.)').strip(),'\\n')\n",
    "        print(\"===============================================================================\")"
   ]
  }
 ],
 "metadata": {
  "kernelspec": {
   "display_name": "Python 3",
   "language": "python",
   "name": "python3"
  },
  "language_info": {
   "codemirror_mode": {
    "name": "ipython",
    "version": 3
   },
   "file_extension": ".py",
   "mimetype": "text/x-python",
   "name": "python",
   "nbconvert_exporter": "python",
   "pygments_lexer": "ipython3",
   "version": "3.7.3"
  }
 },
 "nbformat": 4,
 "nbformat_minor": 2
}
